{
 "cells": [
  {
   "cell_type": "markdown",
   "id": "a815c157",
   "metadata": {},
   "source": [
    "# 1. Basic Knowledge_Python"
   ]
  },
  {
   "cell_type": "markdown",
   "id": "fc3b8720",
   "metadata": {},
   "source": [
    " "
   ]
  },
  {
   "cell_type": "markdown",
   "id": "4756c570",
   "metadata": {},
   "source": [
    "## 1.1 Help"
   ]
  },
  {
   "cell_type": "markdown",
   "id": "05a54ef7",
   "metadata": {},
   "source": [
    "**Method 1: Write the name of the function you want to learn about, then place a question mark '?' in front of it.**"
   ]
  },
  {
   "cell_type": "code",
   "execution_count": 4,
   "id": "a885c337",
   "metadata": {},
   "outputs": [],
   "source": [
    "print?"
   ]
  },
  {
   "cell_type": "markdown",
   "id": "c4958726",
   "metadata": {},
   "source": [
    "**Method 1: Write help (the name of the function you want to learn about)**"
   ]
  },
  {
   "cell_type": "code",
   "execution_count": 5,
   "id": "177ab021",
   "metadata": {},
   "outputs": [
    {
     "name": "stdout",
     "output_type": "stream",
     "text": [
      "Help on built-in function print in module builtins:\n",
      "\n",
      "print(...)\n",
      "    print(value, ..., sep=' ', end='\\n', file=sys.stdout, flush=False)\n",
      "    \n",
      "    Prints the values to a stream, or to sys.stdout by default.\n",
      "    Optional keyword arguments:\n",
      "    file:  a file-like object (stream); defaults to the current sys.stdout.\n",
      "    sep:   string inserted between values, default a space.\n",
      "    end:   string appended after the last value, default a newline.\n",
      "    flush: whether to forcibly flush the stream.\n",
      "\n"
     ]
    }
   ],
   "source": [
    "help(print)"
   ]
  },
  {
   "cell_type": "markdown",
   "id": "b4a68f3f",
   "metadata": {},
   "source": [
    "## 1.2 How to Print"
   ]
  },
  {
   "cell_type": "code",
   "execution_count": 1,
   "id": "d74e1ecd",
   "metadata": {},
   "outputs": [
    {
     "name": "stdout",
     "output_type": "stream",
     "text": [
      "fit a model with 11 variables\n"
     ]
    }
   ],
   "source": [
    "print( 'fit a model with', 11, 'variables')"
   ]
  },
  {
   "cell_type": "code",
   "execution_count": 2,
   "id": "846f575e",
   "metadata": {},
   "outputs": [
    {
     "name": "stdout",
     "output_type": "stream",
     "text": [
      "fit a model with 11 variables\n"
     ]
    }
   ],
   "source": [
    "number=11\n",
    "print(f'fit a model with {number} variables')"
   ]
  },
  {
   "cell_type": "code",
   "execution_count": 3,
   "id": "1e94f146",
   "metadata": {},
   "outputs": [
    {
     "name": "stdout",
     "output_type": "stream",
     "text": [
      "fit a model with 11 variables\n"
     ]
    }
   ],
   "source": [
    "# in this method several stirng can be concatenate\n",
    "number_string='11' \n",
    "print('fit a model with '+number_string+ ' variables')"
   ]
  },
  {
   "cell_type": "markdown",
   "id": "329abb9c",
   "metadata": {},
   "source": [
    "## 1.3 Arithmetic Operators"
   ]
  },
  {
   "cell_type": "markdown",
   "id": "b2e2acda",
   "metadata": {},
   "source": [
    "### 1.3.1 The four basic operations in mathematics "
   ]
  },
  {
   "cell_type": "markdown",
   "id": "80dc9e85",
   "metadata": {},
   "source": [
    "- **Addition**"
   ]
  },
  {
   "cell_type": "code",
   "execution_count": 11,
   "id": "76fe2a0a",
   "metadata": {},
   "outputs": [
    {
     "data": {
      "text/plain": [
       "12"
      ]
     },
     "execution_count": 11,
     "metadata": {},
     "output_type": "execute_result"
    }
   ],
   "source": [
    "10+2"
   ]
  },
  {
   "cell_type": "markdown",
   "id": "1bc43dd4",
   "metadata": {},
   "source": [
    "- **subtraction**"
   ]
  },
  {
   "cell_type": "code",
   "execution_count": 12,
   "id": "e27cc722",
   "metadata": {},
   "outputs": [
    {
     "data": {
      "text/plain": [
       "8"
      ]
     },
     "execution_count": 12,
     "metadata": {},
     "output_type": "execute_result"
    }
   ],
   "source": [
    "10-2"
   ]
  },
  {
   "cell_type": "markdown",
   "id": "e3203c64",
   "metadata": {},
   "source": [
    "- **multiplication**"
   ]
  },
  {
   "cell_type": "code",
   "execution_count": 13,
   "id": "25fd20bb",
   "metadata": {},
   "outputs": [
    {
     "data": {
      "text/plain": [
       "20"
      ]
     },
     "execution_count": 13,
     "metadata": {},
     "output_type": "execute_result"
    }
   ],
   "source": [
    "10*2"
   ]
  },
  {
   "cell_type": "markdown",
   "id": "d55ffe8b",
   "metadata": {},
   "source": [
    "- **division**"
   ]
  },
  {
   "cell_type": "code",
   "execution_count": 14,
   "id": "0ceffc7c",
   "metadata": {},
   "outputs": [
    {
     "data": {
      "text/plain": [
       "5.0"
      ]
     },
     "execution_count": 14,
     "metadata": {},
     "output_type": "execute_result"
    }
   ],
   "source": [
    "10/2"
   ]
  },
  {
   "cell_type": "markdown",
   "id": "c94aaf9b",
   "metadata": {},
   "source": [
    "### 1.3.2 Some other arithmetic operators"
   ]
  },
  {
   "cell_type": "markdown",
   "id": "a28e7c59",
   "metadata": {},
   "source": [
    "- **Exponentiation**"
   ]
  },
  {
   "cell_type": "code",
   "execution_count": 17,
   "id": "ffda0030",
   "metadata": {},
   "outputs": [
    {
     "data": {
      "text/plain": [
       "100"
      ]
     },
     "execution_count": 17,
     "metadata": {},
     "output_type": "execute_result"
    }
   ],
   "source": [
    "10**2"
   ]
  },
  {
   "cell_type": "markdown",
   "id": "53434adf",
   "metadata": {},
   "source": [
    "- **Floor division**"
   ]
  },
  {
   "cell_type": "code",
   "execution_count": 18,
   "id": "67e41081",
   "metadata": {},
   "outputs": [
    {
     "data": {
      "text/plain": [
       "5"
      ]
     },
     "execution_count": 18,
     "metadata": {},
     "output_type": "execute_result"
    }
   ],
   "source": [
    "10//2"
   ]
  },
  {
   "cell_type": "markdown",
   "id": "7eb16404",
   "metadata": {},
   "source": [
    "- **Modulus**"
   ]
  },
  {
   "cell_type": "code",
   "execution_count": 20,
   "id": "59342244",
   "metadata": {},
   "outputs": [
    {
     "data": {
      "text/plain": [
       "0"
      ]
     },
     "execution_count": 20,
     "metadata": {},
     "output_type": "execute_result"
    }
   ],
   "source": [
    "10%2"
   ]
  },
  {
   "cell_type": "markdown",
   "id": "7b112e14",
   "metadata": {},
   "source": [
    "## 1.4 Type of variables"
   ]
  },
  {
   "cell_type": "markdown",
   "id": "08a0813f",
   "metadata": {},
   "source": [
    "### 1.4.1. **Text Type**: String"
   ]
  },
  {
   "cell_type": "code",
   "execution_count": 22,
   "id": "9ea73b13",
   "metadata": {},
   "outputs": [
    {
     "name": "stdout",
     "output_type": "stream",
     "text": [
      "hello\n"
     ]
    }
   ],
   "source": [
    "str1=\"hello\"\n",
    "print(str1)"
   ]
  },
  {
   "cell_type": "code",
   "execution_count": 23,
   "id": "fe25c20f",
   "metadata": {},
   "outputs": [
    {
     "name": "stdout",
     "output_type": "stream",
     "text": [
      "welcome\n"
     ]
    }
   ],
   "source": [
    "str2='welcome'\n",
    "print(str2)"
   ]
  },
  {
   "cell_type": "markdown",
   "id": "84845960",
   "metadata": {},
   "source": [
    "### 1.4.2. **Numeric Types**"
   ]
  },
  {
   "cell_type": "markdown",
   "id": "dd822c5d",
   "metadata": {},
   "source": [
    "<ol>\n",
    "<li> <b>integer<b>"
   ]
  },
  {
   "cell_type": "code",
   "execution_count": 30,
   "id": "3dc744d7",
   "metadata": {},
   "outputs": [
    {
     "name": "stdout",
     "output_type": "stream",
     "text": [
      "10\n"
     ]
    }
   ],
   "source": [
    "integer_exmp= 10\n",
    "print(integer_exmp)"
   ]
  },
  {
   "cell_type": "markdown",
   "id": "5849c46e",
   "metadata": {},
   "source": [
    "  2. <b>float<b>"
   ]
  },
  {
   "cell_type": "code",
   "execution_count": 29,
   "id": "7c029216",
   "metadata": {},
   "outputs": [
    {
     "name": "stdout",
     "output_type": "stream",
     "text": [
      "10.2\n"
     ]
    }
   ],
   "source": [
    "float_exmp=10.2\n",
    "print(float_exmp)"
   ]
  },
  {
   "cell_type": "markdown",
   "id": "37196a41",
   "metadata": {},
   "source": [
    "  3. <b>complex<b>"
   ]
  },
  {
   "cell_type": "code",
   "execution_count": 28,
   "id": "f6932b77",
   "metadata": {},
   "outputs": [
    {
     "name": "stdout",
     "output_type": "stream",
     "text": [
      "(10+1j)\n"
     ]
    }
   ],
   "source": [
    "complex_exmp= 10+1j\n",
    "print(complex_exmp)"
   ]
  },
  {
   "cell_type": "markdown",
   "id": "4c78ca40",
   "metadata": {},
   "source": [
    "### 1.4.3. **Sequence Types**"
   ]
  },
  {
   "cell_type": "markdown",
   "id": "d5b203ed",
   "metadata": {},
   "source": [
    "  1. <b>List<b>"
   ]
  },
  {
   "cell_type": "code",
   "execution_count": 34,
   "id": "6026b04f",
   "metadata": {},
   "outputs": [
    {
     "data": {
      "text/plain": [
       "['apple', 'banana', 'cherry']"
      ]
     },
     "execution_count": 34,
     "metadata": {},
     "output_type": "execute_result"
    }
   ],
   "source": [
    "List_exp_1 = [\"apple\", \"banana\", \"cherry\"]\n",
    "List_exp_1"
   ]
  },
  {
   "cell_type": "code",
   "execution_count": 36,
   "id": "12c2637b",
   "metadata": {},
   "outputs": [
    {
     "data": {
      "text/plain": [
       "[1, 2, 3, 4]"
      ]
     },
     "execution_count": 36,
     "metadata": {},
     "output_type": "execute_result"
    }
   ],
   "source": [
    "List_exp_2=[1,2,3,4]\n",
    "List_exp_2"
   ]
  },
  {
   "cell_type": "code",
   "execution_count": 45,
   "id": "2571e132",
   "metadata": {},
   "outputs": [
    {
     "data": {
      "text/plain": [
       "[1, 3.8, 11.9]"
      ]
     },
     "execution_count": 45,
     "metadata": {},
     "output_type": "execute_result"
    }
   ],
   "source": [
    "List_exp_3=[1, 3.8, 11.9]\n",
    "List_exp_3"
   ]
  },
  {
   "cell_type": "code",
   "execution_count": 46,
   "id": "8808cb1a",
   "metadata": {},
   "outputs": [
    {
     "data": {
      "text/plain": [
       "['apple', 'banana', 'cherry', 1, 2, 3, 4, 1, 3.8, 11.9]"
      ]
     },
     "execution_count": 46,
     "metadata": {},
     "output_type": "execute_result"
    }
   ],
   "source": [
    "List_exp_1+List_exp_2+List_exp_3"
   ]
  },
  {
   "cell_type": "markdown",
   "id": "ce5dda7d",
   "metadata": {},
   "source": [
    "  2. <b>Tuple<b>"
   ]
  },
  {
   "cell_type": "code",
   "execution_count": 58,
   "id": "3431af2c",
   "metadata": {},
   "outputs": [
    {
     "data": {
      "text/plain": [
       "('apple', 'banana', 'cherry')"
      ]
     },
     "execution_count": 58,
     "metadata": {},
     "output_type": "execute_result"
    }
   ],
   "source": [
    "tuple_exp_1 = (\"apple\", \"banana\", \"cherry\")\n",
    "tuple_exp_1 "
   ]
  },
  {
   "cell_type": "code",
   "execution_count": 59,
   "id": "a92c3f4d",
   "metadata": {},
   "outputs": [
    {
     "data": {
      "text/plain": [
       "(1, 112, 'apple')"
      ]
     },
     "execution_count": 59,
     "metadata": {},
     "output_type": "execute_result"
    }
   ],
   "source": [
    "tuple_exp_2 = (1, 112, 'apple')\n",
    "tuple_exp_2"
   ]
  },
  {
   "cell_type": "code",
   "execution_count": 60,
   "id": "6c2746fc",
   "metadata": {},
   "outputs": [
    {
     "data": {
      "text/plain": [
       "('apple', 'banana', 'cherry', 1, 112, 'apple')"
      ]
     },
     "execution_count": 60,
     "metadata": {},
     "output_type": "execute_result"
    }
   ],
   "source": [
    "tuple_exp_1 +tuple_exp_2"
   ]
  },
  {
   "cell_type": "markdown",
   "id": "6bda418c",
   "metadata": {},
   "source": [
    "\n",
    "- **Diffrence between Tuple and List**:  Tuples cannot be changed while lists can be modified. \n"
   ]
  },
  {
   "cell_type": "code",
   "execution_count": 62,
   "id": "e1233d30",
   "metadata": {},
   "outputs": [
    {
     "data": {
      "text/plain": [
       "['cucumber', 'banana', 'cherry']"
      ]
     },
     "execution_count": 62,
     "metadata": {},
     "output_type": "execute_result"
    }
   ],
   "source": [
    "List_exp_1[0]='cucumber'\n",
    "List_exp_1"
   ]
  },
  {
   "cell_type": "code",
   "execution_count": 67,
   "id": "7e0b61b6",
   "metadata": {},
   "outputs": [],
   "source": [
    "# tuple_exp_1[0]='cucumber'\n",
    "\n",
    "\n",
    "# This code gives us an error which shows the elemnts in a tuple cannot be changed\n",
    "# ---------------------------------------------------------------------------\n",
    "# TypeError                                 Traceback (most recent call last)\n",
    "# ~\\AppData\\Local\\Temp\\ipykernel_28108\\3146017497.py in <module>\n",
    "# ----> 1 tuple_exp_1[0]='cucumber'\n",
    "#       2 tuple_exp_1[0]\n",
    "\n",
    "# TypeError: 'tuple' object does not support item assignment"
   ]
  },
  {
   "cell_type": "markdown",
   "id": "05d6f433",
   "metadata": {},
   "source": [
    "  3. <b>Range<b>"
   ]
  },
  {
   "cell_type": "code",
   "execution_count": 71,
   "id": "88036e98",
   "metadata": {},
   "outputs": [
    {
     "data": {
      "text/plain": [
       "range(0, 6)"
      ]
     },
     "execution_count": 71,
     "metadata": {},
     "output_type": "execute_result"
    }
   ],
   "source": [
    "range_exp_1=range(6)\n",
    "range_exp_1"
   ]
  },
  {
   "cell_type": "markdown",
   "id": "b3ec4c71",
   "metadata": {},
   "source": [
    "### 1.4.4. **Boolean Type**"
   ]
  },
  {
   "cell_type": "code",
   "execution_count": 72,
   "id": "a848349b",
   "metadata": {},
   "outputs": [
    {
     "data": {
      "text/plain": [
       "True"
      ]
     },
     "execution_count": 72,
     "metadata": {},
     "output_type": "execute_result"
    }
   ],
   "source": [
    "Boolean_exp_1 = True\n",
    "Boolean_exp_1"
   ]
  },
  {
   "cell_type": "code",
   "execution_count": 76,
   "id": "9a71b0d6",
   "metadata": {},
   "outputs": [
    {
     "data": {
      "text/plain": [
       "False"
      ]
     },
     "execution_count": 76,
     "metadata": {},
     "output_type": "execute_result"
    }
   ],
   "source": [
    "# Boolean_exp_2\n",
    "x=3\n",
    "y=4\n",
    "Boolean_exp_2= x>y\n",
    "Boolean_exp_2"
   ]
  },
  {
   "cell_type": "markdown",
   "id": "4ec2689f",
   "metadata": {},
   "source": [
    "### 1.4.5. **Mapping Type** : Dictionary"
   ]
  },
  {
   "cell_type": "code",
   "execution_count": 78,
   "id": "f9ee3537",
   "metadata": {},
   "outputs": [
    {
     "data": {
      "text/plain": [
       "{'name': 'John', 'age': 36}"
      ]
     },
     "execution_count": 78,
     "metadata": {},
     "output_type": "execute_result"
    }
   ],
   "source": [
    "Dict_exmp_1={\"name\" : \"John\", \"age\" : 36}\n",
    "Dict_exmp_1"
   ]
  },
  {
   "cell_type": "code",
   "execution_count": 83,
   "id": "a098e7d1",
   "metadata": {},
   "outputs": [
    {
     "data": {
      "text/plain": [
       "36"
      ]
     },
     "execution_count": 83,
     "metadata": {},
     "output_type": "execute_result"
    }
   ],
   "source": [
    "Dict_exmp_1['age']"
   ]
  },
  {
   "cell_type": "code",
   "execution_count": 80,
   "id": "f2378d77",
   "metadata": {},
   "outputs": [
    {
     "data": {
      "text/plain": [
       "{'name': ['John', 'Ana'], 'age': [36, 30]}"
      ]
     },
     "execution_count": 80,
     "metadata": {},
     "output_type": "execute_result"
    }
   ],
   "source": [
    "Dict_exmp_2={\"name\" : [\"John\", \"Ana\"], \"age\" : [36, 30]}\n",
    "Dict_exmp_2"
   ]
  },
  {
   "cell_type": "code",
   "execution_count": 81,
   "id": "b360dbc3",
   "metadata": {},
   "outputs": [
    {
     "data": {
      "text/plain": [
       "['John', 'Ana']"
      ]
     },
     "execution_count": 81,
     "metadata": {},
     "output_type": "execute_result"
    }
   ],
   "source": [
    "Dict_exmp_2['name']"
   ]
  },
  {
   "cell_type": "code",
   "execution_count": 85,
   "id": "f1b04aa5",
   "metadata": {},
   "outputs": [
    {
     "data": {
      "text/plain": [
       "['John', 'Ana']"
      ]
     },
     "execution_count": 85,
     "metadata": {},
     "output_type": "execute_result"
    }
   ],
   "source": [
    "Dict_exmp_2.get(\"name\")"
   ]
  },
  {
   "cell_type": "code",
   "execution_count": 90,
   "id": "8b854a42",
   "metadata": {},
   "outputs": [
    {
     "data": {
      "text/plain": [
       "dict_keys(['name', 'age'])"
      ]
     },
     "execution_count": 90,
     "metadata": {},
     "output_type": "execute_result"
    }
   ],
   "source": [
    "Dict_exmp_1.keys()"
   ]
  }
 ],
 "metadata": {
  "kernelspec": {
   "display_name": "Python 3 (ipykernel)",
   "language": "python",
   "name": "python3"
  },
  "language_info": {
   "codemirror_mode": {
    "name": "ipython",
    "version": 3
   },
   "file_extension": ".py",
   "mimetype": "text/x-python",
   "name": "python",
   "nbconvert_exporter": "python",
   "pygments_lexer": "ipython3",
   "version": "3.9.13"
  }
 },
 "nbformat": 4,
 "nbformat_minor": 5
}
