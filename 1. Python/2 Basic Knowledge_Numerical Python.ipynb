{
 "cells": [
  {
   "cell_type": "markdown",
   "id": "b172e01c",
   "metadata": {},
   "source": [
    "# 2. Basic Knowledge_Numerical Python"
   ]
  },
  {
   "cell_type": "markdown",
   "id": "f82d7d80",
   "metadata": {},
   "source": [
    "## Numpy Libarary"
   ]
  },
  {
   "cell_type": "code",
   "execution_count": 1,
   "id": "b3a3dc4f",
   "metadata": {},
   "outputs": [],
   "source": [
    "import numpy as np"
   ]
  },
  {
   "cell_type": "markdown",
   "id": "369ca525",
   "metadata": {},
   "source": [
    " "
   ]
  },
  {
   "cell_type": "markdown",
   "id": "c2ba2e60",
   "metadata": {},
   "source": [
    "## 2.1. Array : \n",
    "\n",
    "### A multidimensional set of numbers"
   ]
  },
  {
   "cell_type": "markdown",
   "id": "6fed2559",
   "metadata": {},
   "source": [
    "### - Vector: one_dimentional array"
   ]
  },
  {
   "cell_type": "code",
   "execution_count": 6,
   "id": "d8104753",
   "metadata": {},
   "outputs": [
    {
     "data": {
      "text/plain": [
       "array([3, 5, 7])"
      ]
     },
     "execution_count": 6,
     "metadata": {},
     "output_type": "execute_result"
    }
   ],
   "source": [
    "Array_exp_1= np.array([3,5,7])\n",
    "Array_exp_1"
   ]
  },
  {
   "cell_type": "code",
   "execution_count": 7,
   "id": "52c65971",
   "metadata": {},
   "outputs": [
    {
     "name": "stdout",
     "output_type": "stream",
     "text": [
      "[2 4 6]\n"
     ]
    }
   ],
   "source": [
    "Array_exp_2= np.array([2,4,6])\n",
    "print(Array_exp_2)"
   ]
  },
  {
   "cell_type": "markdown",
   "id": "77e0b92f",
   "metadata": {},
   "source": [
    "### - Matrix: two (or more)_dimentional array"
   ]
  },
  {
   "cell_type": "markdown",
   "id": "4eddfb95",
   "metadata": {},
   "source": [
    "#### - 2D Matrix: two_dimentional array"
   ]
  },
  {
   "cell_type": "code",
   "execution_count": 16,
   "id": "77efb5a2",
   "metadata": {},
   "outputs": [
    {
     "name": "stdout",
     "output_type": "stream",
     "text": [
      "[[3 5 7]\n",
      " [2 4 6]]\n"
     ]
    }
   ],
   "source": [
    "Array_2d_exp_1= np.array([[3,5,7],[2,4,6]])\n",
    "print(Array_2d_exp_1)"
   ]
  },
  {
   "cell_type": "code",
   "execution_count": 27,
   "id": "36209317",
   "metadata": {},
   "outputs": [
    {
     "name": "stdout",
     "output_type": "stream",
     "text": [
      "[[ 1  3  5]\n",
      " [ 0  8 10]]\n"
     ]
    }
   ],
   "source": [
    "Array_2d_exp_2= np.array([[1,3,5],[0,8,10]])\n",
    "print(Array_2d_exp_2)"
   ]
  },
  {
   "cell_type": "markdown",
   "id": "1e733429",
   "metadata": {},
   "source": [
    "#### - 3D Matrix: three_dimentional array"
   ]
  },
  {
   "cell_type": "code",
   "execution_count": 56,
   "id": "bf42b4f9",
   "metadata": {},
   "outputs": [
    {
     "name": "stdout",
     "output_type": "stream",
     "text": [
      "[[[3 5 7]\n",
      "  [2 4 6]]\n",
      "\n",
      " [[3 5 7]\n",
      "  [2 4 6]]]\n"
     ]
    }
   ],
   "source": [
    "Array_3d_exp_1= np.array([[[3,5,7],[2,4,6]], [[3,5,7],[2,4,6]]])\n",
    "print(Array_3d_exp_1)"
   ]
  },
  {
   "cell_type": "markdown",
   "id": "b828bb61",
   "metadata": {},
   "source": [
    "## 2.2. Sum of arrays"
   ]
  },
  {
   "cell_type": "code",
   "execution_count": 31,
   "id": "e085599c",
   "metadata": {},
   "outputs": [
    {
     "name": "stdout",
     "output_type": "stream",
     "text": [
      "Vector1: [3 5 7]\n",
      "Vector2: [2 4 6]\n",
      "Summation of Vector1 & Vector2: [ 5  9 13]\n"
     ]
    }
   ],
   "source": [
    "print(\"Vector1:\", Array_exp_1)\n",
    "print(\"Vector2:\", Array_exp_2)\n",
    "print(\"Summation of Vector1 & Vector2:\",Array_exp_1+Array_exp_2)"
   ]
  },
  {
   "cell_type": "code",
   "execution_count": 33,
   "id": "bafeae7f",
   "metadata": {},
   "outputs": [
    {
     "name": "stdout",
     "output_type": "stream",
     "text": [
      "Matrix1:\n",
      " [[3 5 7]\n",
      " [2 4 6]]\n",
      "Matrix2:\n",
      " [[ 1  3  5]\n",
      " [ 0  8 10]]\n",
      "Summation of Matrix1 & Matrix2:\n",
      " [[ 4  8 12]\n",
      " [ 2 12 16]]\n"
     ]
    }
   ],
   "source": [
    "print(\"Matrix1:\\n\", Array_2d_exp_1)\n",
    "print(\"Matrix2:\\n\", Array_2d_exp_2)\n",
    "print(\"Summation of Matrix1 & Matrix2:\\n\",Array_2d_exp_1+Array_2d_exp_2)"
   ]
  },
  {
   "cell_type": "markdown",
   "id": "82cfb90c",
   "metadata": {},
   "source": [
    "## 2.3. Attribute of arrays"
   ]
  },
  {
   "cell_type": "markdown",
   "id": "4a298b45",
   "metadata": {},
   "source": [
    "### - Number of Dimension:  *array.ndim*"
   ]
  },
  {
   "cell_type": "code",
   "execution_count": 39,
   "id": "cb71bb4e",
   "metadata": {},
   "outputs": [
    {
     "name": "stdout",
     "output_type": "stream",
     "text": [
      "Dimension of Array_exp: 1\n",
      "Dimension of Array_2d_exp: 2\n",
      "Dimension of Array_3d_exp: 3\n"
     ]
    }
   ],
   "source": [
    "print('Dimension of Array_exp:', Array_exp_1.ndim)\n",
    "print('Dimension of Array_2d_exp:', Array_2d_exp_1.ndim)\n",
    "print('Dimension of Array_3d_exp:', Array_3d_exp_1.ndim)"
   ]
  },
  {
   "cell_type": "markdown",
   "id": "edb3cf3d",
   "metadata": {},
   "source": [
    "### - Data type:  *array.dtype*"
   ]
  },
  {
   "cell_type": "code",
   "execution_count": 45,
   "id": "31999b47",
   "metadata": {},
   "outputs": [
    {
     "name": "stdout",
     "output_type": "stream",
     "text": [
      "Type of Array_exp: int32\n",
      "Type of Array_2d_exp: int32\n",
      "Type of Array_3d_exp: <U11\n"
     ]
    }
   ],
   "source": [
    "print('Type of Array_exp:', Array_exp_1.dtype)\n",
    "print('Type of Array_2d_exp:', Array_2d_exp_1.dtype)\n",
    "print('Type of Array_3d_exp:', Array_3d_exp_1.dtype)"
   ]
  },
  {
   "cell_type": "markdown",
   "id": "c5184e85",
   "metadata": {},
   "source": [
    "### - Determine the type of data in an array\n"
   ]
  },
  {
   "cell_type": "code",
   "execution_count": 46,
   "id": "b106a837",
   "metadata": {},
   "outputs": [
    {
     "name": "stdout",
     "output_type": "stream",
     "text": [
      "Type of Array_exp4: float64\n"
     ]
    }
   ],
   "source": [
    "Array_exp_4= np.array([3,5,7], float)\n",
    "\n",
    "print('Type of Array_exp4:', Array_exp_4.dtype)"
   ]
  },
  {
   "cell_type": "markdown",
   "id": "a30a1a45",
   "metadata": {},
   "source": [
    "### - Shape of an array:  *np.shape(array)*  or *array.shape*\n"
   ]
  },
  {
   "cell_type": "code",
   "execution_count": 48,
   "id": "7b579009",
   "metadata": {},
   "outputs": [
    {
     "name": "stdout",
     "output_type": "stream",
     "text": [
      "Shape of Array_exp: (3,)\n",
      "Shape of Array_2d_exp: (2, 3)\n",
      "Shape of Array_3d_exp: (2, 2, 3)\n"
     ]
    }
   ],
   "source": [
    "print('Shape of Array_exp:', np.shape(Array_exp_1))\n",
    "print('Shape of Array_2d_exp:', np.shape(Array_2d_exp_1))\n",
    "print('Shape of Array_3d_exp:', Array_3d_exp_1.shape)"
   ]
  },
  {
   "cell_type": "markdown",
   "id": "0a99d56f",
   "metadata": {},
   "source": [
    "## 2.4. Sum of elements"
   ]
  },
  {
   "cell_type": "markdown",
   "id": "2d5c1805",
   "metadata": {},
   "source": [
    "### sume all elementsin an array: *np.sum()*"
   ]
  },
  {
   "cell_type": "code",
   "execution_count": 51,
   "id": "2c99be37",
   "metadata": {},
   "outputs": [
    {
     "name": "stdout",
     "output_type": "stream",
     "text": [
      "Array_exp: [3 5 7]\n",
      "summation of all elements in Array_exp: 15\n"
     ]
    }
   ],
   "source": [
    "print('Array_exp:', Array_exp_1)\n",
    "print('summation of all elements in Array_exp:', np.sum(Array_exp_1))"
   ]
  },
  {
   "cell_type": "code",
   "execution_count": 54,
   "id": "bfbed0df",
   "metadata": {},
   "outputs": [
    {
     "name": "stdout",
     "output_type": "stream",
     "text": [
      "Array_2d_exp:\n",
      " [[3 5 7]\n",
      " [2 4 6]]\n",
      "summation of all elements in Array_2d_exp: 27 = 3 + 5 + 7 + 2 + 4 + 6\n"
     ]
    }
   ],
   "source": [
    "print('Array_2d_exp:\\n', Array_2d_exp_1)\n",
    "print('summation of all elements in Array_2d_exp:', np.sum(Array_2d_exp_1),'=', Array_2d_exp_1[0,0],'+',\n",
    "      Array_2d_exp_1[0,1],'+', Array_2d_exp_1[0,2],'+', Array_2d_exp_1[1,0],'+', Array_2d_exp_1[1,1],'+',\n",
    "      Array_2d_exp_1[1,2])"
   ]
  },
  {
   "cell_type": "code",
   "execution_count": 57,
   "id": "06228e26",
   "metadata": {},
   "outputs": [
    {
     "name": "stdout",
     "output_type": "stream",
     "text": [
      "Array_3d_exp:\n",
      " [[[3 5 7]\n",
      "  [2 4 6]]\n",
      "\n",
      " [[3 5 7]\n",
      "  [2 4 6]]]\n",
      "summation of all elements in Array_3d_exp: 54\n"
     ]
    }
   ],
   "source": [
    "print('Array_3d_exp:\\n', Array_3d_exp_1)\n",
    "print('summation of all elements in Array_3d_exp:', np.sum(Array_3d_exp_1))"
   ]
  },
  {
   "cell_type": "markdown",
   "id": "92590329",
   "metadata": {},
   "source": [
    "## 2.4. Reshape Array: *np.reshape()*  or *array.reshape()*"
   ]
  },
  {
   "cell_type": "code",
   "execution_count": 68,
   "id": "764cee8a",
   "metadata": {},
   "outputs": [
    {
     "name": "stdout",
     "output_type": "stream",
     "text": [
      "Array_exp: [1 2 3 4 5 6]\n",
      "Shape of Array_exp: (6,) \n",
      "\n",
      "Reshaped Array_exp:\n",
      " [[1 2 3]\n",
      " [4 5 6]]\n",
      "Shape of Reshaped Array_exp: (2, 3)\n"
     ]
    }
   ],
   "source": [
    "Array_exp_5=np.array([1,2,3,4,5,6])\n",
    "print('Array_exp:', Array_exp_5)\n",
    "print('Shape of Array_exp:', Array_exp_5.shape,'\\n')\n",
    "Array_exp_5_reshape=np.reshape(Array_exp_5, (2,3))\n",
    "print('Reshaped Array_exp:\\n', np.reshape(Array_exp_5, (2,3)))\n",
    "print('Shape of Reshaped Array_exp:', np.reshape(Array_exp_5, (2,3)).shape)"
   ]
  },
  {
   "cell_type": "markdown",
   "id": "bb835b01",
   "metadata": {},
   "source": [
    "#### Changes made to the reshaped array will also affect the original array."
   ]
  },
  {
   "cell_type": "code",
   "execution_count": 69,
   "id": "b4e25242",
   "metadata": {},
   "outputs": [
    {
     "name": "stdout",
     "output_type": "stream",
     "text": [
      "Array before we modify Array_reshape:\n",
      " [1 2 3 4 5 6]\n",
      "Array_reshape before we modify Array_reshape:\n",
      " [[1 2 3]\n",
      " [4 5 6]]\n",
      "Array_reshape after we modify its top left element:\n",
      " [[5 2 3]\n",
      " [4 5 6]]\n",
      "Array after we modify top left element of Array_reshape:\n",
      " [5 2 3 4 5 6]\n"
     ]
    }
   ],
   "source": [
    "print('Array before we modify Array_reshape:\\n', Array_exp_5)\n",
    "print('Array_reshape before we modify Array_reshape:\\n', Array_exp_5_reshape)\n",
    "Array_exp_5_reshape[0, 0] = 5\n",
    "print('Array_reshape after we modify its top left element:\\n',\n",
    "Array_exp_5_reshape)\n",
    "print('Array after we modify top left element of Array_reshape:\\n', Array_exp_5)"
   ]
  },
  {
   "cell_type": "markdown",
   "id": "c53b7f58",
   "metadata": {},
   "source": [
    " "
   ]
  },
  {
   "cell_type": "markdown",
   "id": "599fe9e8",
   "metadata": {},
   "source": [
    "## 2.5. Generating Random Number"
   ]
  },
  {
   "cell_type": "markdown",
   "id": "a181730c",
   "metadata": {},
   "source": [
    "### N(0,1)"
   ]
  },
  {
   "cell_type": "code",
   "execution_count": 73,
   "id": "d8865864",
   "metadata": {},
   "outputs": [
    {
     "data": {
      "text/plain": [
       "array([-0.42473096,  0.86790096, -0.57627322, -1.0891415 , -0.80931664,\n",
       "        0.60291971, -0.6120208 ,  0.30163992, -0.8859165 ,  1.67219498,\n",
       "       -1.3167247 ,  1.88400124, -0.12759145,  1.05750005, -0.23401461,\n",
       "       -1.38867558,  0.10323313, -2.32569142, -0.99155477, -0.07045048,\n",
       "       -1.66262071, -0.35154289, -0.37857585,  0.12839694, -1.41518864,\n",
       "        1.60712332,  0.49882965, -0.23841137, -0.92077903,  0.59259073,\n",
       "        0.89872729, -0.28253489,  1.1700055 , -1.52213929, -0.1975795 ,\n",
       "       -1.31023631,  1.64991492, -0.72005315, -0.12606725, -1.29186129,\n",
       "        0.65170427,  0.67043536, -0.69434347, -0.28522317, -0.07116582,\n",
       "        1.58013825, -0.50801773, -1.31013411,  1.01750622, -0.69842587])"
      ]
     },
     "execution_count": 73,
     "metadata": {},
     "output_type": "execute_result"
    }
   ],
   "source": [
    "Data_exmp_1=np.random.normal(size=50)\n",
    "Data_exmp_1"
   ]
  },
  {
   "cell_type": "markdown",
   "id": "0b5b0d04",
   "metadata": {},
   "source": [
    "### N(mu,sigma)\n"
   ]
  },
  {
   "cell_type": "code",
   "execution_count": 74,
   "id": "da3989b7",
   "metadata": {},
   "outputs": [
    {
     "data": {
      "text/plain": [
       "array([59.75642423, 45.45512461, 59.44881044, 56.89621688, 31.00169636,\n",
       "       54.80376757, 47.10715157, 46.27983691, 47.29549062, 78.02565999,\n",
       "       63.92644426, 60.15863097, 43.58206584, 42.41709692, 49.2570114 ,\n",
       "       31.34559773, 51.84406963, 39.81210097, 36.69294051, 45.27738771,\n",
       "       41.69336287, 32.8983093 , 41.264058  , 46.30888941, 62.56539547,\n",
       "       63.49973689, 57.74449488, 47.94506307, 25.13142202, 44.12299295,\n",
       "       25.93380878, 50.48815633, 46.62720923, 70.74534216, 56.07214618,\n",
       "       51.98173848, 39.08074747, 52.91814892, 47.87091611, 63.69890372,\n",
       "       29.37628677, 61.16729227, 39.13094609, 34.65941704, 62.51699321,\n",
       "       36.57042047, 57.42844221, 50.01208932, 42.35219302, 54.0326628 ])"
      ]
     },
     "execution_count": 74,
     "metadata": {},
     "output_type": "execute_result"
    }
   ],
   "source": [
    "mu=50\n",
    "sigma=10\n",
    "Data_exmp_2=np.random.normal(loc=mu, scale=sigma, size=50)\n",
    "Data_exmp_2"
   ]
  },
  {
   "cell_type": "markdown",
   "id": "3cd40eba",
   "metadata": {},
   "source": [
    "## 2.6. Corrolation between two array: *np.corrcoef()*\n"
   ]
  },
  {
   "cell_type": "code",
   "execution_count": 80,
   "id": "3ab4fb6f",
   "metadata": {},
   "outputs": [
    {
     "name": "stdout",
     "output_type": "stream",
     "text": [
      "Corrolation Matrix:\n",
      " [[1.         0.10924646]\n",
      " [0.10924646 1.        ]]\n"
     ]
    }
   ],
   "source": [
    "Data_exmp_3=Data_exmp_1+Data_exmp_2\n",
    "print('Corrolation Matrix:\\n', np.corrcoef(Data_exmp_3, Data_exmp_1))"
   ]
  },
  {
   "cell_type": "markdown",
   "id": "10a75e68",
   "metadata": {},
   "source": [
    " "
   ]
  },
  {
   "cell_type": "markdown",
   "id": "8d9c7ce7",
   "metadata": {},
   "source": [
    "## 2.7. vector : *linspace()*"
   ]
  },
  {
   "cell_type": "code",
   "execution_count": 83,
   "id": "c50b2a92",
   "metadata": {},
   "outputs": [
    {
     "name": "stdout",
     "output_type": "stream",
     "text": [
      "it returns a vector with 50 numbers between 0 and 10: \n",
      "\n",
      " [ 0.          0.20408163  0.40816327  0.6122449   0.81632653  1.02040816\n",
      "  1.2244898   1.42857143  1.63265306  1.83673469  2.04081633  2.24489796\n",
      "  2.44897959  2.65306122  2.85714286  3.06122449  3.26530612  3.46938776\n",
      "  3.67346939  3.87755102  4.08163265  4.28571429  4.48979592  4.69387755\n",
      "  4.89795918  5.10204082  5.30612245  5.51020408  5.71428571  5.91836735\n",
      "  6.12244898  6.32653061  6.53061224  6.73469388  6.93877551  7.14285714\n",
      "  7.34693878  7.55102041  7.75510204  7.95918367  8.16326531  8.36734694\n",
      "  8.57142857  8.7755102   8.97959184  9.18367347  9.3877551   9.59183673\n",
      "  9.79591837 10.        ]\n"
     ]
    }
   ],
   "source": [
    "vector_exmp_1=np.linspace(0,10,50)\n",
    "print('it returns a vector with 50 numbers between 0 and 10: \\n\\n', vector_exmp_1)"
   ]
  },
  {
   "cell_type": "markdown",
   "id": "8d1b1d30",
   "metadata": {},
   "source": [
    " "
   ]
  },
  {
   "cell_type": "markdown",
   "id": "3e775c14",
   "metadata": {},
   "source": [
    "## 2.8. $\\pi$ : *np.pi*"
   ]
  },
  {
   "cell_type": "code",
   "execution_count": 92,
   "id": "75579039",
   "metadata": {},
   "outputs": [
    {
     "name": "stdout",
     "output_type": "stream",
     "text": [
      "π = 3.141592653589793\n"
     ]
    }
   ],
   "source": [
    "pi_symbol = '\\u03C0'\n",
    "print(pi_symbol, '=', np.pi)"
   ]
  },
  {
   "cell_type": "markdown",
   "id": "16f8f8de",
   "metadata": {},
   "source": [
    " "
   ]
  },
  {
   "cell_type": "markdown",
   "id": "e7173a53",
   "metadata": {},
   "source": [
    "## 2.9. Outer product of two arrays"
   ]
  },
  {
   "cell_type": "code",
   "execution_count": 93,
   "id": "0c3358e0",
   "metadata": {},
   "outputs": [
    {
     "name": "stdout",
     "output_type": "stream",
     "text": [
      "Vector A: [1 2 3]\n",
      "Vector B: [4 5 6]\n",
      "Outer Product:\n",
      " [[ 4  5  6]\n",
      " [ 8 10 12]\n",
      " [12 15 18]]\n"
     ]
    }
   ],
   "source": [
    "# Define two vectors\n",
    "vector_a = np.array([1, 2, 3])\n",
    "vector_b = np.array([4, 5, 6])\n",
    "\n",
    "# Compute the outer product\n",
    "outer_product = np.multiply.outer(vector_a, vector_b)\n",
    "\n",
    "# Display the result\n",
    "print(\"Vector A:\", vector_a)\n",
    "print(\"Vector B:\", vector_b)\n",
    "print(\"Outer Product:\\n\", outer_product)\n"
   ]
  },
  {
   "cell_type": "markdown",
   "id": "01050881",
   "metadata": {},
   "source": [
    " "
   ]
  },
  {
   "cell_type": "markdown",
   "id": "cd25e17b",
   "metadata": {},
   "source": [
    "## 2.10. Sine and Cosine of each element in an array"
   ]
  },
  {
   "cell_type": "code",
   "execution_count": 94,
   "id": "0d8fea81",
   "metadata": {},
   "outputs": [
    {
     "name": "stdout",
     "output_type": "stream",
     "text": [
      "Angles (radians): [0.         0.78539816 1.57079633 3.14159265]\n",
      "Cosines: [ 1.00000000e+00  7.07106781e-01  6.12323400e-17 -1.00000000e+00]\n"
     ]
    }
   ],
   "source": [
    "# Define an array of angles in radians\n",
    "angles = np.array([0, np.pi/4, np.pi/2, np.pi])\n",
    "\n",
    "# Compute the cosine of each angle\n",
    "cosines = np.cos(angles)\n",
    "\n",
    "# Display the result\n",
    "print(\"Angles (radians):\", angles)\n",
    "print(\"Cosines:\", cosines)\n"
   ]
  },
  {
   "cell_type": "markdown",
   "id": "e6adfe1a",
   "metadata": {},
   "source": [
    " "
   ]
  },
  {
   "cell_type": "markdown",
   "id": "1478f4df",
   "metadata": {},
   "source": [
    "## 2.11. Finding Unique value in an array"
   ]
  },
  {
   "cell_type": "code",
   "execution_count": 96,
   "id": "d4fef91d",
   "metadata": {},
   "outputs": [
    {
     "name": "stdout",
     "output_type": "stream",
     "text": [
      "Array with unique element: [1 2 3 4 5 6 8]\n"
     ]
    }
   ],
   "source": [
    "Array_exp_6=[1,2,3,4,4,5,6,8,3,2,6]\n",
    "print(\"Array with unique element:\", np.unique(Array_exp_6))"
   ]
  },
  {
   "cell_type": "code",
   "execution_count": null,
   "id": "f743945c",
   "metadata": {},
   "outputs": [],
   "source": []
  }
 ],
 "metadata": {
  "kernelspec": {
   "display_name": "Python 3 (ipykernel)",
   "language": "python",
   "name": "python3"
  },
  "language_info": {
   "codemirror_mode": {
    "name": "ipython",
    "version": 3
   },
   "file_extension": ".py",
   "mimetype": "text/x-python",
   "name": "python",
   "nbconvert_exporter": "python",
   "pygments_lexer": "ipython3",
   "version": "3.9.13"
  }
 },
 "nbformat": 4,
 "nbformat_minor": 5
}
